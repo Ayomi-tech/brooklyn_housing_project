{
 "cells": [
  {
   "cell_type": "markdown",
   "metadata": {},
   "source": [
    "# EXPLORATORY DATA ANALYSIS OF BROOKLYIN PROPERTIES BETWEEN FROM 2003 TO 2017."
   ]
  },
  {
   "cell_type": "markdown",
   "metadata": {},
   "source": [
    "# The importance of this exploratory analysis for this dataset is to uncover some insights which include:"
   ]
  },
  {
   "cell_type": "markdown",
   "metadata": {},
   "source": [
    "To uncover pricey and cheap Neighborhoods to buy family homes and commercial properties in brooklyn.\n",
    "To identify both expensive and cheap geographical region of brooklyn to buy properties.\n",
    "To visualize seasonality in the properties purchase in brooklyn between 2003 and 2017."
   ]
  },
  {
   "cell_type": "markdown",
   "metadata": {},
   "source": [
    "Importing the require libraries"
   ]
  },
  {
   "cell_type": "code",
   "execution_count": 14,
   "metadata": {},
   "outputs": [],
   "source": [
    "import pandas as pd\n",
    "import matplotlib.pyplot as plt\n",
    "import numpy as np\n",
    "import seaborn as sns\n",
    "import warnings\n",
    "warnings.filterwarnings(\"ignore\")"
   ]
  },
  {
   "cell_type": "code",
   "execution_count": 3,
   "metadata": {},
   "outputs": [],
   "source": [
    "full_sale = pd.read_csv(\"full_sale.csv\")"
   ]
  },
  {
   "cell_type": "code",
   "execution_count": 4,
   "metadata": {},
   "outputs": [
    {
     "data": {
      "text/html": [
       "<div>\n",
       "<style scoped>\n",
       "    .dataframe tbody tr th:only-of-type {\n",
       "        vertical-align: middle;\n",
       "    }\n",
       "\n",
       "    .dataframe tbody tr th {\n",
       "        vertical-align: top;\n",
       "    }\n",
       "\n",
       "    .dataframe thead th {\n",
       "        text-align: right;\n",
       "    }\n",
       "</style>\n",
       "<table border=\"1\" class=\"dataframe\">\n",
       "  <thead>\n",
       "    <tr style=\"text-align: right;\">\n",
       "      <th></th>\n",
       "      <th>Unnamed: 0</th>\n",
       "      <th>neighborhood</th>\n",
       "      <th>building_class_category</th>\n",
       "      <th>tax_class_at_sale</th>\n",
       "      <th>building_class_at_sale</th>\n",
       "      <th>address</th>\n",
       "      <th>sale_price</th>\n",
       "      <th>sale_date</th>\n",
       "      <th>year_of_sale</th>\n",
       "      <th>land_sqft</th>\n",
       "      <th>gross_sqft</th>\n",
       "      <th>OwnerName</th>\n",
       "      <th>month</th>\n",
       "      <th>month_number</th>\n",
       "      <th>geographical_region</th>\n",
       "      <th>mins_to_manhattan_bridge</th>\n",
       "    </tr>\n",
       "  </thead>\n",
       "  <tbody>\n",
       "    <tr>\n",
       "      <th>0</th>\n",
       "      <td>0</td>\n",
       "      <td>DOWNTOWN-METROTECH</td>\n",
       "      <td>28  COMMERCIAL CONDOS</td>\n",
       "      <td>4</td>\n",
       "      <td>R5</td>\n",
       "      <td>330 JAY STREET</td>\n",
       "      <td>499401179.0</td>\n",
       "      <td>2008-04-23</td>\n",
       "      <td>2008</td>\n",
       "      <td>0.0</td>\n",
       "      <td>0.0</td>\n",
       "      <td>Anonymous</td>\n",
       "      <td>4</td>\n",
       "      <td>April</td>\n",
       "      <td>Northwestern Brooklyn</td>\n",
       "      <td>3</td>\n",
       "    </tr>\n",
       "    <tr>\n",
       "      <th>1</th>\n",
       "      <td>1</td>\n",
       "      <td>DUMBO</td>\n",
       "      <td>29  COMMERCIAL GARAGES</td>\n",
       "      <td>4</td>\n",
       "      <td>G7</td>\n",
       "      <td>85 JAY STREET</td>\n",
       "      <td>345000000.0</td>\n",
       "      <td>2016-12-20</td>\n",
       "      <td>2016</td>\n",
       "      <td>134988.0</td>\n",
       "      <td>0.0</td>\n",
       "      <td>85 JAY STREET BROOKLY</td>\n",
       "      <td>12</td>\n",
       "      <td>December</td>\n",
       "      <td>Northwestern Brooklyn</td>\n",
       "      <td>4</td>\n",
       "    </tr>\n",
       "    <tr>\n",
       "      <th>2</th>\n",
       "      <td>2</td>\n",
       "      <td>BROOKLYN HEIGHTS</td>\n",
       "      <td>21  OFFICE BUILDINGS</td>\n",
       "      <td>4</td>\n",
       "      <td>O6</td>\n",
       "      <td>29 COLUMBIA HEIGHTS</td>\n",
       "      <td>340000000.0</td>\n",
       "      <td>2016-08-03</td>\n",
       "      <td>2016</td>\n",
       "      <td>32000.0</td>\n",
       "      <td>304650.0</td>\n",
       "      <td>25-30 COLUMBIA HEIGHT</td>\n",
       "      <td>8</td>\n",
       "      <td>August</td>\n",
       "      <td>Northwestern Brooklyn</td>\n",
       "      <td>7</td>\n",
       "    </tr>\n",
       "    <tr>\n",
       "      <th>3</th>\n",
       "      <td>3</td>\n",
       "      <td>MILL BASIN</td>\n",
       "      <td>22  STORE BUILDINGS</td>\n",
       "      <td>4</td>\n",
       "      <td>K6</td>\n",
       "      <td>5120 AVENUE U</td>\n",
       "      <td>276947000.0</td>\n",
       "      <td>2012-11-28</td>\n",
       "      <td>2012</td>\n",
       "      <td>905000.0</td>\n",
       "      <td>2548000.0</td>\n",
       "      <td>BROOKLYN KINGS PLAZA</td>\n",
       "      <td>11</td>\n",
       "      <td>November</td>\n",
       "      <td>Southern Brooklyn</td>\n",
       "      <td>33</td>\n",
       "    </tr>\n",
       "    <tr>\n",
       "      <th>4</th>\n",
       "      <td>4</td>\n",
       "      <td>BROOKLYN HEIGHTS</td>\n",
       "      <td>26 OTHER HOTELS</td>\n",
       "      <td>4</td>\n",
       "      <td>H8</td>\n",
       "      <td>21 CLARK STREET</td>\n",
       "      <td>202500000.0</td>\n",
       "      <td>2017-10-31</td>\n",
       "      <td>2017</td>\n",
       "      <td>20267.0</td>\n",
       "      <td>356000.0</td>\n",
       "      <td>WATCHTOWER C/O REAL P</td>\n",
       "      <td>10</td>\n",
       "      <td>October</td>\n",
       "      <td>Northwestern Brooklyn</td>\n",
       "      <td>7</td>\n",
       "    </tr>\n",
       "  </tbody>\n",
       "</table>\n",
       "</div>"
      ],
      "text/plain": [
       "   Unnamed: 0        neighborhood building_class_category  tax_class_at_sale  \\\n",
       "0           0  DOWNTOWN-METROTECH   28  COMMERCIAL CONDOS                  4   \n",
       "1           1               DUMBO  29  COMMERCIAL GARAGES                  4   \n",
       "2           2    BROOKLYN HEIGHTS    21  OFFICE BUILDINGS                  4   \n",
       "3           3          MILL BASIN     22  STORE BUILDINGS                  4   \n",
       "4           4    BROOKLYN HEIGHTS         26 OTHER HOTELS                  4   \n",
       "\n",
       "  building_class_at_sale              address   sale_price   sale_date  \\\n",
       "0                     R5       330 JAY STREET  499401179.0  2008-04-23   \n",
       "1                     G7        85 JAY STREET  345000000.0  2016-12-20   \n",
       "2                     O6  29 COLUMBIA HEIGHTS  340000000.0  2016-08-03   \n",
       "3                     K6        5120 AVENUE U  276947000.0  2012-11-28   \n",
       "4                     H8      21 CLARK STREET  202500000.0  2017-10-31   \n",
       "\n",
       "   year_of_sale  land_sqft  gross_sqft              OwnerName  month  \\\n",
       "0          2008        0.0         0.0              Anonymous      4   \n",
       "1          2016   134988.0         0.0  85 JAY STREET BROOKLY     12   \n",
       "2          2016    32000.0    304650.0  25-30 COLUMBIA HEIGHT      8   \n",
       "3          2012   905000.0   2548000.0   BROOKLYN KINGS PLAZA     11   \n",
       "4          2017    20267.0    356000.0  WATCHTOWER C/O REAL P     10   \n",
       "\n",
       "  month_number    geographical_region  mins_to_manhattan_bridge  \n",
       "0        April  Northwestern Brooklyn                         3  \n",
       "1     December  Northwestern Brooklyn                         4  \n",
       "2       August  Northwestern Brooklyn                         7  \n",
       "3     November      Southern Brooklyn                        33  \n",
       "4      October  Northwestern Brooklyn                         7  "
      ]
     },
     "execution_count": 4,
     "metadata": {},
     "output_type": "execute_result"
    }
   ],
   "source": [
    "full_sale.head()"
   ]
  },
  {
   "cell_type": "code",
   "execution_count": 5,
   "metadata": {},
   "outputs": [],
   "source": [
    "# renaming 2 columns from the dataframe\n",
    "full_sale = full_sale.rename(columns=({\"month\":\"month_number\", \"month_number\":\"month\"}))"
   ]
  },
  {
   "cell_type": "code",
   "execution_count": 6,
   "metadata": {},
   "outputs": [
    {
     "data": {
      "text/plain": [
       "(390876, 16)"
      ]
     },
     "execution_count": 6,
     "metadata": {},
     "output_type": "execute_result"
    }
   ],
   "source": [
    "full_sale.shape"
   ]
  },
  {
   "cell_type": "code",
   "execution_count": 7,
   "metadata": {},
   "outputs": [
    {
     "data": {
      "text/plain": [
       "Unnamed: 0                  0\n",
       "neighborhood                0\n",
       "building_class_category     0\n",
       "tax_class_at_sale           0\n",
       "building_class_at_sale      0\n",
       "address                     0\n",
       "sale_price                  0\n",
       "sale_date                   0\n",
       "year_of_sale                0\n",
       "land_sqft                   0\n",
       "gross_sqft                  0\n",
       "OwnerName                   0\n",
       "month_number                0\n",
       "month                       0\n",
       "geographical_region         0\n",
       "mins_to_manhattan_bridge    0\n",
       "dtype: int64"
      ]
     },
     "execution_count": 7,
     "metadata": {},
     "output_type": "execute_result"
    }
   ],
   "source": [
    "full_sale.isnull().sum()"
   ]
  },
  {
   "cell_type": "markdown",
   "metadata": {},
   "source": [
    "# 1. LANDING PROPERTIES ANALYSIS"
   ]
  },
  {
   "cell_type": "markdown",
   "metadata": {},
   "source": [
    "The approach is to extract the landing properties in the dataset so we can highlight the neigborhood with expensive landing properties, which will give us an insight regarding where to get cheap lands that fit into our budget.\n",
    "\n",
    "First we need to set a price baseline of 50,000 USD of lands purchased from 2003 to 2017 due to some low sale_price which we consider to be unclear, then group by brooklyn distinct geographical region in the dataframe and map each geographical region to it's average sale price of the lands."
   ]
  },
  {
   "cell_type": "code",
   "execution_count": 8,
   "metadata": {},
   "outputs": [],
   "source": [
    "vacant_land = full_sale.loc[(full_sale[\"building_class_at_sale\"] == \"V0\") & (full_sale[\"sale_price\"] >= 50000)]"
   ]
  },
  {
   "cell_type": "code",
   "execution_count": 9,
   "metadata": {},
   "outputs": [
    {
     "data": {
      "text/html": [
       "<div>\n",
       "<style scoped>\n",
       "    .dataframe tbody tr th:only-of-type {\n",
       "        vertical-align: middle;\n",
       "    }\n",
       "\n",
       "    .dataframe tbody tr th {\n",
       "        vertical-align: top;\n",
       "    }\n",
       "\n",
       "    .dataframe thead th {\n",
       "        text-align: right;\n",
       "    }\n",
       "</style>\n",
       "<table border=\"1\" class=\"dataframe\">\n",
       "  <thead>\n",
       "    <tr style=\"text-align: right;\">\n",
       "      <th></th>\n",
       "      <th>Unnamed: 0</th>\n",
       "      <th>neighborhood</th>\n",
       "      <th>building_class_category</th>\n",
       "      <th>tax_class_at_sale</th>\n",
       "      <th>building_class_at_sale</th>\n",
       "      <th>address</th>\n",
       "      <th>sale_price</th>\n",
       "      <th>sale_date</th>\n",
       "      <th>year_of_sale</th>\n",
       "      <th>land_sqft</th>\n",
       "      <th>gross_sqft</th>\n",
       "      <th>OwnerName</th>\n",
       "      <th>month_number</th>\n",
       "      <th>month</th>\n",
       "      <th>geographical_region</th>\n",
       "      <th>mins_to_manhattan_bridge</th>\n",
       "    </tr>\n",
       "  </thead>\n",
       "  <tbody>\n",
       "    <tr>\n",
       "      <th>63</th>\n",
       "      <td>63</td>\n",
       "      <td>WILLIAMSBURG</td>\n",
       "      <td>05  TAX CLASS 1 VACANT LAND</td>\n",
       "      <td>1</td>\n",
       "      <td>V0</td>\n",
       "      <td>KENT AVENUE</td>\n",
       "      <td>65600000.0</td>\n",
       "      <td>2012-08-30</td>\n",
       "      <td>2012</td>\n",
       "      <td>75707.0</td>\n",
       "      <td>522607.0</td>\n",
       "      <td>NORTH 4TH PLACE, LLC</td>\n",
       "      <td>8</td>\n",
       "      <td>August</td>\n",
       "      <td>Northern Brooklyn</td>\n",
       "      <td>10</td>\n",
       "    </tr>\n",
       "    <tr>\n",
       "      <th>70</th>\n",
       "      <td>70</td>\n",
       "      <td>GREENPOINT</td>\n",
       "      <td>05  TAX CLASS 1 VACANT LAND</td>\n",
       "      <td>1</td>\n",
       "      <td>V0</td>\n",
       "      <td>COMMERCIAL STREET</td>\n",
       "      <td>59757356.0</td>\n",
       "      <td>2015-10-19</td>\n",
       "      <td>2015</td>\n",
       "      <td>5293.0</td>\n",
       "      <td>0.0</td>\n",
       "      <td>BOP GREENPOINT F LLC</td>\n",
       "      <td>10</td>\n",
       "      <td>October</td>\n",
       "      <td>Northern Brooklyn</td>\n",
       "      <td>12</td>\n",
       "    </tr>\n",
       "    <tr>\n",
       "      <th>111</th>\n",
       "      <td>111</td>\n",
       "      <td>GREENPOINT</td>\n",
       "      <td>05  TAX CLASS 1 VACANT LAND</td>\n",
       "      <td>1</td>\n",
       "      <td>V0</td>\n",
       "      <td>COMMERCIAL STREET</td>\n",
       "      <td>46485643.0</td>\n",
       "      <td>2015-10-19</td>\n",
       "      <td>2015</td>\n",
       "      <td>14284.0</td>\n",
       "      <td>0.0</td>\n",
       "      <td>BOP GREENPOINT G LLC</td>\n",
       "      <td>10</td>\n",
       "      <td>October</td>\n",
       "      <td>Northern Brooklyn</td>\n",
       "      <td>12</td>\n",
       "    </tr>\n",
       "    <tr>\n",
       "      <th>130</th>\n",
       "      <td>130</td>\n",
       "      <td>WILLIAMSBURG</td>\n",
       "      <td>05  TAX CLASS 1 VACANT LAND</td>\n",
       "      <td>1</td>\n",
       "      <td>V0</td>\n",
       "      <td>44 SOUTH 8TH   STREET</td>\n",
       "      <td>42565000.0</td>\n",
       "      <td>2007-12-11</td>\n",
       "      <td>2007</td>\n",
       "      <td>95275.0</td>\n",
       "      <td>43370.0</td>\n",
       "      <td>Anonymous</td>\n",
       "      <td>12</td>\n",
       "      <td>December</td>\n",
       "      <td>Northern Brooklyn</td>\n",
       "      <td>10</td>\n",
       "    </tr>\n",
       "    <tr>\n",
       "      <th>167</th>\n",
       "      <td>167</td>\n",
       "      <td>SPRING CREEK</td>\n",
       "      <td>05  TAX CLASS 1 VACANT LAND</td>\n",
       "      <td>1</td>\n",
       "      <td>V0</td>\n",
       "      <td>VANDALIA AVENUE</td>\n",
       "      <td>35000000.0</td>\n",
       "      <td>2013-02-13</td>\n",
       "      <td>2013</td>\n",
       "      <td>2574982.0</td>\n",
       "      <td>0.0</td>\n",
       "      <td>NYC PARKS</td>\n",
       "      <td>2</td>\n",
       "      <td>February</td>\n",
       "      <td>Eastern Brooklyn</td>\n",
       "      <td>35</td>\n",
       "    </tr>\n",
       "  </tbody>\n",
       "</table>\n",
       "</div>"
      ],
      "text/plain": [
       "     Unnamed: 0  neighborhood      building_class_category  tax_class_at_sale  \\\n",
       "63           63  WILLIAMSBURG  05  TAX CLASS 1 VACANT LAND                  1   \n",
       "70           70    GREENPOINT  05  TAX CLASS 1 VACANT LAND                  1   \n",
       "111         111    GREENPOINT  05  TAX CLASS 1 VACANT LAND                  1   \n",
       "130         130  WILLIAMSBURG  05  TAX CLASS 1 VACANT LAND                  1   \n",
       "167         167  SPRING CREEK  05  TAX CLASS 1 VACANT LAND                  1   \n",
       "\n",
       "    building_class_at_sale                address  sale_price   sale_date  \\\n",
       "63                      V0            KENT AVENUE  65600000.0  2012-08-30   \n",
       "70                      V0      COMMERCIAL STREET  59757356.0  2015-10-19   \n",
       "111                     V0      COMMERCIAL STREET  46485643.0  2015-10-19   \n",
       "130                     V0  44 SOUTH 8TH   STREET  42565000.0  2007-12-11   \n",
       "167                     V0        VANDALIA AVENUE  35000000.0  2013-02-13   \n",
       "\n",
       "     year_of_sale  land_sqft  gross_sqft             OwnerName  month_number  \\\n",
       "63           2012    75707.0    522607.0  NORTH 4TH PLACE, LLC             8   \n",
       "70           2015     5293.0         0.0  BOP GREENPOINT F LLC            10   \n",
       "111          2015    14284.0         0.0  BOP GREENPOINT G LLC            10   \n",
       "130          2007    95275.0     43370.0             Anonymous            12   \n",
       "167          2013  2574982.0         0.0             NYC PARKS             2   \n",
       "\n",
       "        month geographical_region  mins_to_manhattan_bridge  \n",
       "63     August   Northern Brooklyn                        10  \n",
       "70    October   Northern Brooklyn                        12  \n",
       "111   October   Northern Brooklyn                        12  \n",
       "130  December   Northern Brooklyn                        10  \n",
       "167  February    Eastern Brooklyn                        35  "
      ]
     },
     "execution_count": 9,
     "metadata": {},
     "output_type": "execute_result"
    }
   ],
   "source": [
    "vacant_land.head()"
   ]
  },
  {
   "cell_type": "code",
   "execution_count": 10,
   "metadata": {},
   "outputs": [],
   "source": [
    "land_avg_price = vacant_land.groupby(\"geographical_region\")[\"sale_price\"].median().reset_index().sort_values(\"sale_price\",ascending = False).rename(columns=({\"sale_price\":\n",
    "                                                                                                                         \"median_sale_price\"}))"
   ]
  },
  {
   "cell_type": "code",
   "execution_count": 15,
   "metadata": {},
   "outputs": [
    {
     "data": {
      "image/png": "[encoded data removed]",
      "text/plain": [
       "<Figure size 1296x576 with 1 Axes>"
      ]
     },
     "metadata": {
      "needs_background": "light"
     },
     "output_type": "display_data"
    }
   ],
   "source": [
    "fig, ax = plt.subplots(figsize=(18, 8))\n",
    "sns.barplot(land_avg_price[\"geographical_region\"], land_avg_price[\"median_sale_price\"])\n",
    "plt.ticklabel_format(axis=\"y\", style=\"plain\")\n",
    "plt.show()"
   ]
  },
  {
   "cell_type": "code",
   "execution_count": null,
   "metadata": {},
   "outputs": [],
   "source": []
  }
 ],
 "metadata": {
  "kernelspec": {
   "display_name": "Python 3",
   "language": "python",
   "name": "python3"
  },
  "language_info": {
   "codemirror_mode": {
    "name": "ipython",
    "version": 3
   },
   "file_extension": ".py",
   "mimetype": "text/x-python",
   "name": "python",
   "nbconvert_exporter": "python",
   "pygments_lexer": "ipython3",
   "version": "3.7.6"
  }
 },
 "nbformat": 4,
 "nbformat_minor": 4
}
