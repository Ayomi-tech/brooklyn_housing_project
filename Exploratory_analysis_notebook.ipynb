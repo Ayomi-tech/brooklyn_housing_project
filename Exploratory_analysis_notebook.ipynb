{
 "cells": [
  {
   "cell_type": "markdown",
   "metadata": {},
   "source": [
    "# EXPLORATORY DATA ANALYSIS OF BROOKLYIN PROPERTIES BETWEEN FROM 2003 TO 2017."
   ]
  },
  {
   "cell_type": "markdown",
   "metadata": {},
   "source": [
    "# The importance of this exploratory analysis for this dataset is to uncover some insights which include:"
   ]
  },
  {
   "cell_type": "markdown",
   "metadata": {},
   "source": [
    "To uncover pricey and cheap Neighborhoods to buy family homes and commercial properties in brooklyn.\n",
    "To identify both expensive and cheap geographical region of brooklyn to buy properties.\n",
    "To visualize seasonality in the properties purchase in brooklyn between 2003 and 2017."
   ]
  },
  {
   "cell_type": "markdown",
   "metadata": {},
   "source": [
    "Importing the require libraries"
   ]
  },
  {
   "cell_type": "code",
   "execution_count": 1,
   "metadata": {},
   "outputs": [],
   "source": [
    "import pandas as pd\n",
    "import matplotlib.pyplot as plt\n",
    "import numpy as np\n",
    "import seaborn as sns"
   ]
  },
  {
   "cell_type": "code",
   "execution_count": 2,
   "metadata": {},
   "outputs": [],
   "source": [
    "full_sale = pd.read_csv(\"full_sale.csv\")"
   ]
  },
  {
   "cell_type": "code",
   "execution_count": 3,
   "metadata": {},
   "outputs": [
    {
     "data": {
      "text/html": [
       "<div>\n",
       "<style scoped>\n",
       "    .dataframe tbody tr th:only-of-type {\n",
       "        vertical-align: middle;\n",
       "    }\n",
       "\n",
       "    .dataframe tbody tr th {\n",
       "        vertical-align: top;\n",
       "    }\n",
       "\n",
       "    .dataframe thead th {\n",
       "        text-align: right;\n",
       "    }\n",
       "</style>\n",
       "<table border=\"1\" class=\"dataframe\">\n",
       "  <thead>\n",
       "    <tr style=\"text-align: right;\">\n",
       "      <th></th>\n",
       "      <th>Unnamed: 0</th>\n",
       "      <th>neighborhood</th>\n",
       "      <th>building_class_category</th>\n",
       "      <th>tax_class_at_sale</th>\n",
       "      <th>building_class_at_sale</th>\n",
       "      <th>address</th>\n",
       "      <th>sale_price</th>\n",
       "      <th>sale_date</th>\n",
       "      <th>year_of_sale</th>\n",
       "      <th>land_sqft</th>\n",
       "      <th>gross_sqft</th>\n",
       "      <th>OwnerName</th>\n",
       "      <th>month</th>\n",
       "      <th>month_number</th>\n",
       "      <th>geographical_region</th>\n",
       "      <th>mins_to_manhattan_bridge</th>\n",
       "    </tr>\n",
       "  </thead>\n",
       "  <tbody>\n",
       "    <tr>\n",
       "      <th>0</th>\n",
       "      <td>0</td>\n",
       "      <td>DOWNTOWN-METROTECH</td>\n",
       "      <td>28  COMMERCIAL CONDOS</td>\n",
       "      <td>4</td>\n",
       "      <td>R5</td>\n",
       "      <td>330 JAY STREET</td>\n",
       "      <td>499401179.0</td>\n",
       "      <td>2008-04-23</td>\n",
       "      <td>2008</td>\n",
       "      <td>0.0</td>\n",
       "      <td>0.0</td>\n",
       "      <td>Anonymous</td>\n",
       "      <td>4</td>\n",
       "      <td>April</td>\n",
       "      <td>Northwestern Brooklyn</td>\n",
       "      <td>3</td>\n",
       "    </tr>\n",
       "    <tr>\n",
       "      <th>1</th>\n",
       "      <td>1</td>\n",
       "      <td>DUMBO</td>\n",
       "      <td>29  COMMERCIAL GARAGES</td>\n",
       "      <td>4</td>\n",
       "      <td>G7</td>\n",
       "      <td>85 JAY STREET</td>\n",
       "      <td>345000000.0</td>\n",
       "      <td>2016-12-20</td>\n",
       "      <td>2016</td>\n",
       "      <td>134988.0</td>\n",
       "      <td>0.0</td>\n",
       "      <td>85 JAY STREET BROOKLY</td>\n",
       "      <td>12</td>\n",
       "      <td>December</td>\n",
       "      <td>Northwestern Brooklyn</td>\n",
       "      <td>4</td>\n",
       "    </tr>\n",
       "    <tr>\n",
       "      <th>2</th>\n",
       "      <td>2</td>\n",
       "      <td>BROOKLYN HEIGHTS</td>\n",
       "      <td>21  OFFICE BUILDINGS</td>\n",
       "      <td>4</td>\n",
       "      <td>O6</td>\n",
       "      <td>29 COLUMBIA HEIGHTS</td>\n",
       "      <td>340000000.0</td>\n",
       "      <td>2016-08-03</td>\n",
       "      <td>2016</td>\n",
       "      <td>32000.0</td>\n",
       "      <td>304650.0</td>\n",
       "      <td>25-30 COLUMBIA HEIGHT</td>\n",
       "      <td>8</td>\n",
       "      <td>August</td>\n",
       "      <td>Northwestern Brooklyn</td>\n",
       "      <td>7</td>\n",
       "    </tr>\n",
       "    <tr>\n",
       "      <th>3</th>\n",
       "      <td>3</td>\n",
       "      <td>MILL BASIN</td>\n",
       "      <td>22  STORE BUILDINGS</td>\n",
       "      <td>4</td>\n",
       "      <td>K6</td>\n",
       "      <td>5120 AVENUE U</td>\n",
       "      <td>276947000.0</td>\n",
       "      <td>2012-11-28</td>\n",
       "      <td>2012</td>\n",
       "      <td>905000.0</td>\n",
       "      <td>2548000.0</td>\n",
       "      <td>BROOKLYN KINGS PLAZA</td>\n",
       "      <td>11</td>\n",
       "      <td>November</td>\n",
       "      <td>Southern Brooklyn</td>\n",
       "      <td>33</td>\n",
       "    </tr>\n",
       "    <tr>\n",
       "      <th>4</th>\n",
       "      <td>4</td>\n",
       "      <td>BROOKLYN HEIGHTS</td>\n",
       "      <td>26 OTHER HOTELS</td>\n",
       "      <td>4</td>\n",
       "      <td>H8</td>\n",
       "      <td>21 CLARK STREET</td>\n",
       "      <td>202500000.0</td>\n",
       "      <td>2017-10-31</td>\n",
       "      <td>2017</td>\n",
       "      <td>20267.0</td>\n",
       "      <td>356000.0</td>\n",
       "      <td>WATCHTOWER C/O REAL P</td>\n",
       "      <td>10</td>\n",
       "      <td>October</td>\n",
       "      <td>Northwestern Brooklyn</td>\n",
       "      <td>7</td>\n",
       "    </tr>\n",
       "  </tbody>\n",
       "</table>\n",
       "</div>"
      ],
      "text/plain": [
       "   Unnamed: 0        neighborhood building_class_category  tax_class_at_sale  \\\n",
       "0           0  DOWNTOWN-METROTECH   28  COMMERCIAL CONDOS                  4   \n",
       "1           1               DUMBO  29  COMMERCIAL GARAGES                  4   \n",
       "2           2    BROOKLYN HEIGHTS    21  OFFICE BUILDINGS                  4   \n",
       "3           3          MILL BASIN     22  STORE BUILDINGS                  4   \n",
       "4           4    BROOKLYN HEIGHTS         26 OTHER HOTELS                  4   \n",
       "\n",
       "  building_class_at_sale              address   sale_price   sale_date  \\\n",
       "0                     R5       330 JAY STREET  499401179.0  2008-04-23   \n",
       "1                     G7        85 JAY STREET  345000000.0  2016-12-20   \n",
       "2                     O6  29 COLUMBIA HEIGHTS  340000000.0  2016-08-03   \n",
       "3                     K6        5120 AVENUE U  276947000.0  2012-11-28   \n",
       "4                     H8      21 CLARK STREET  202500000.0  2017-10-31   \n",
       "\n",
       "   year_of_sale  land_sqft  gross_sqft              OwnerName  month  \\\n",
       "0          2008        0.0         0.0              Anonymous      4   \n",
       "1          2016   134988.0         0.0  85 JAY STREET BROOKLY     12   \n",
       "2          2016    32000.0    304650.0  25-30 COLUMBIA HEIGHT      8   \n",
       "3          2012   905000.0   2548000.0   BROOKLYN KINGS PLAZA     11   \n",
       "4          2017    20267.0    356000.0  WATCHTOWER C/O REAL P     10   \n",
       "\n",
       "  month_number    geographical_region  mins_to_manhattan_bridge  \n",
       "0        April  Northwestern Brooklyn                         3  \n",
       "1     December  Northwestern Brooklyn                         4  \n",
       "2       August  Northwestern Brooklyn                         7  \n",
       "3     November      Southern Brooklyn                        33  \n",
       "4      October  Northwestern Brooklyn                         7  "
      ]
     },
     "execution_count": 3,
     "metadata": {},
     "output_type": "execute_result"
    }
   ],
   "source": [
    "full_sale.head()"
   ]
  },
  {
   "cell_type": "code",
   "execution_count": 4,
   "metadata": {},
   "outputs": [],
   "source": [
    "# renaming 2 columns from the dataframe\n",
    "full_sale = full_sale.rename(columns=({\"month\":\"month_number\", \"month_number\":\"month\"}))"
   ]
  },
  {
   "cell_type": "code",
   "execution_count": 5,
   "metadata": {},
   "outputs": [
    {
     "data": {
      "text/plain": [
       "(390876, 16)"
      ]
     },
     "execution_count": 5,
     "metadata": {},
     "output_type": "execute_result"
    }
   ],
   "source": [
    "full_sale.shape"
   ]
  },
  {
   "cell_type": "code",
   "execution_count": 6,
   "metadata": {},
   "outputs": [
    {
     "data": {
      "text/plain": [
       "Unnamed: 0                  0\n",
       "neighborhood                0\n",
       "building_class_category     0\n",
       "tax_class_at_sale           0\n",
       "building_class_at_sale      0\n",
       "address                     0\n",
       "sale_price                  0\n",
       "sale_date                   0\n",
       "year_of_sale                0\n",
       "land_sqft                   0\n",
       "gross_sqft                  0\n",
       "OwnerName                   0\n",
       "month_number                0\n",
       "month                       0\n",
       "geographical_region         0\n",
       "mins_to_manhattan_bridge    0\n",
       "dtype: int64"
      ]
     },
     "execution_count": 6,
     "metadata": {},
     "output_type": "execute_result"
    }
   ],
   "source": [
    "full_sale.isnull().sum()"
   ]
  },
  {
   "cell_type": "code",
   "execution_count": null,
   "metadata": {},
   "outputs": [],
   "source": []
  }
 ],
 "metadata": {
  "kernelspec": {
   "display_name": "Python 3",
   "language": "python",
   "name": "python3"
  },
  "language_info": {
   "codemirror_mode": {
    "name": "ipython",
    "version": 3
   },
   "file_extension": ".py",
   "mimetype": "text/x-python",
   "name": "python",
   "nbconvert_exporter": "python",
   "pygments_lexer": "ipython3",
   "version": "3.7.6"
  }
 },
 "nbformat": 4,
 "nbformat_minor": 4
}
